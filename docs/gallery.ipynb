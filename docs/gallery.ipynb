{
 "cells": [
  {
   "cell_type": "markdown",
   "metadata": {},
   "source": [
    "# Gallery"
   ]
  },
  {
   "cell_type": "markdown",
   "metadata": {
    "tags": [
     "nbsphinx-gallery"
    ]
   },
   "source": [
    "* [Scatterplot](gallery-basic-scatterplot.ipynb)\n",
    "* [Cartopy Map](gallery-cartopy-map.ipynb)\n",
    "* [Background Image Map](gallery-background-image-map.ipynb)\n",
    "* [Vizent glyphs with Matplotlib elements](gallery-with-mpl.ipynb)"
   ]
  }
 ],
 "metadata": {
  "language_info": {
   "name": "python"
  },
  "orig_nbformat": 4
 },
 "nbformat": 4,
 "nbformat_minor": 2
}
