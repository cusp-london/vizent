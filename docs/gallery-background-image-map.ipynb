{
 "cells": [
  {
   "cell_type": "markdown",
   "metadata": {},
   "source": [
    "# Background image example"
   ]
  },
  {
   "cell_type": "code",
   "execution_count": null,
   "metadata": {},
   "outputs": [],
   "source": [
    "from vizent import vizent_plot\n",
    "import pandas as pd\n",
    "\n",
    "data = pd.read_csv(\"sample-data/england-covid-example.csv\")\n",
    "x = data['lon'].tolist()\n",
    "y = data['lat'].tolist()\n",
    "cases = data['Cases'].tolist()\n",
    "accel = data['Diff7Day'].tolist()\n",
    "\n",
    "size = [30]*len(x)\n",
    "\n",
    "fig = vizent_plot(x, y, cases, accel, size, shape_label=\"7-day difference\",\n",
    "                  color_label=\"Daily cases\", \n",
    "                  image_file=\"../vizent/images/england_map.png\", \n",
    "                  extent=[-6, 2, 49.9, 56])\n",
    "\n",
    "title= fig.suptitle(\"COVID19 daily case count and 7 day difference \\n English regions, 5th January 2021\", y=0.94)"
   ]
  },
  {
   "cell_type": "markdown",
   "metadata": {},
   "source": [
    "Map © [OpenStreetMap](https://www.openstreetmap.org/) contributors"
   ]
  }
 ],
 "metadata": {
  "language_info": {
   "name": "python"
  },
  "orig_nbformat": 4
 },
 "nbformat": 4,
 "nbformat_minor": 2
}
